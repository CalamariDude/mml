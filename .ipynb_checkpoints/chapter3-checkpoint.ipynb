{
 "cells": [
  {
   "cell_type": "code",
   "execution_count": 2,
   "metadata": {},
   "outputs": [
    {
     "name": "stdout",
     "output_type": "stream",
     "text": [
      "5.0\n",
      "11\n"
     ]
    }
   ],
   "source": [
    "import numpy as np\n",
    "norm = lambda a : np.linalg.norm(a)\n",
    "dot = lambda a,b : np.dot(a,b)\n",
    "funky = lambda a,b : a[0]* b[0] - (a[0]*b[1] + a[1]*b[0]) + 2 * a[1]*b[1]\n",
    "print(norm([3,4]))\n",
    "print(dot([1,2],[3,4]))\n",
    "    "
   ]
  },
  {
   "cell_type": "code",
   "execution_count": 3,
   "metadata": {},
   "outputs": [
    {
     "name": "stdout",
     "output_type": "stream",
     "text": [
      "-3\n"
     ]
    }
   ],
   "source": [
    "#⟨x, y⟩ := x1y1 − (x1y2 + x2y1) + 2x2y2\n",
    "print(1 * 3 - (1 * 4 + 2 * 3) + 2* 2)"
   ]
  },
  {
   "cell_type": "markdown",
   "metadata": {},
   "source": [
    "a set of basis vectors is a bilinear mapping"
   ]
  },
  {
   "cell_type": "code",
   "execution_count": 4,
   "metadata": {},
   "outputs": [
    {
     "name": "stdout",
     "output_type": "stream",
     "text": [
      "-51\n",
      "-51\n"
     ]
    }
   ],
   "source": [
    "lamb = 2\n",
    "phi = 3\n",
    "b1 ,b2, b3 = np.array([[1,2,3],[0,1,0] , [0,0,1]])\n",
    "b1, b2, b3 = np.array([[1,2],[2,3], [3,-2]])\n",
    "print(funky(lamb * b1 + phi * b2, b3))\n",
    "print(lamb * funky(b1,b3) + phi * funky(b2, b3))\n",
    "# print(np.dot(b1,b2))\n",
    "# print(np.dot(b1, 2 * np.asarray(b2)) == 2 * np.dot(b1, b2))"
   ]
  },
  {
   "cell_type": "code",
   "execution_count": 36,
   "metadata": {},
   "outputs": [
    {
     "name": "stdout",
     "output_type": "stream",
     "text": [
      "23\n",
      "B shape (2, 2)\n",
      "A [[1 0]\n",
      " [0 1]]\n",
      "xhat [[2]\n",
      " [3]]\n",
      "shape of x and y (2, 1)\n",
      "23\n",
      "[[23]]\n"
     ]
    }
   ],
   "source": [
    "B = np.array([[1,1], [2,1]])\n",
    "psi = np.array([2,3])\n",
    "lamb = np.array([4,5])\n",
    "\n",
    "xhat = psi.reshape(-1,1)\n",
    "yhat = lamb.reshape(-1,1)\n",
    "print('xhat', xhat)\n",
    "print('yhat', yhat)\n",
    "# print(np.dot(psi, lamb))\n",
    "summation = 0 \n",
    "for i in range(2):\n",
    "    for j in range(2):\n",
    "        summation+=xhat[i] * np.dot(B[i], B[j]) * yhat[j]\n",
    "print('B shape', B.shape)\n",
    "A = B.T @ B\n",
    "print('A', A)\n",
    "print('xhat', xhat)\n",
    "print('shape of x and y', xhat.shape)\n",
    "print(summation)\n",
    "\n",
    "print(xhat.T @ A @ yhat)"
   ]
  },
  {
   "cell_type": "code",
   "execution_count": 69,
   "metadata": {},
   "outputs": [
    {
     "name": "stdout",
     "output_type": "stream",
     "text": [
      "(2, 2)\n",
      "[[1 0]\n",
      " [2 1]]\n",
      "[[99]]\n",
      "99\n",
      "[[5 2]\n",
      " [2 1]]\n",
      "[[99]]\n"
     ]
    }
   ],
   "source": [
    "B = np.array([[1,0], [2,1]])\n",
    "psi = np.array([2,3])\n",
    "lamb = np.array([4,5])\n",
    "\n",
    "x = B @ psi.reshape(-1,1)\n",
    "y = B @ lamb.reshape(-1,1)\n",
    "\n",
    "print(B.shape)\n",
    "print(B)\n",
    "print(x.T @ y)\n",
    "\n",
    "summation = 0 \n",
    "for i in range(2):\n",
    "    for j in range(2):\n",
    "        summation+=psi[i] * np.dot(B.T[i], B.T[j]) * lamb[j]\n",
    "print(summation)\n",
    "\n",
    "A = B.T @ B\n",
    "print(A)\n",
    "xhat = psi.reshape(-1,1)\n",
    "yhat = lamb.reshape(-1,1)\n",
    "print(xhat.T @ A @ yhat)"
   ]
  },
  {
   "cell_type": "markdown",
   "metadata": {},
   "source": [
    "Dot product: ${x_{1}y_{1} + x_{2}y_{2}}$\n",
    "\n",
    "Euclidean Metric: $\\sqrt{(x_{1}-y_{1})^{2} + (x_{2}-y_{2})^2}$"
   ]
  },
  {
   "cell_type": "code",
   "execution_count": 8,
   "metadata": {},
   "outputs": [],
   "source": [
    "# cauchy shwarz? show its relevance\n",
    "#example 3.5 what are the ramifications of using a different inner product. When is it even an inner product again?\n",
    "# norm definition\n",
    "a = [1, -1, 1]\n",
    "b = [-10, -1, 1]"
   ]
  },
  {
   "cell_type": "code",
   "execution_count": 9,
   "metadata": {},
   "outputs": [
    {
     "data": {
      "text/plain": [
       "-8"
      ]
     },
     "execution_count": 9,
     "metadata": {},
     "output_type": "execute_result"
    }
   ],
   "source": [
    "# compare euclidean distance and dot product \n",
    "np.dot(a, a)\n",
    "\n",
    "np.linalg.norm"
   ]
  },
  {
   "cell_type": "markdown",
   "metadata": {},
   "source": [
    "### Orthogonal Matrix\n",
    "    If a matrix is orthogonal it is also orthonormal\n",
    "    A and B here are both orthogonal matrix    "
   ]
  },
  {
   "cell_type": "code",
   "execution_count": 17,
   "metadata": {},
   "outputs": [
    {
     "name": "stdout",
     "output_type": "stream",
     "text": [
      "Norm of x 5.000000000000001\n",
      "[1 2] | | =  5.000000000000001\n",
      "[ 2.12132034 -0.70710678] | | =  2.2360679774997894\n"
     ]
    }
   ],
   "source": [
    "A = np.array([[1,0],[0,1]])\n",
    "B = np.array([[1/np.sqrt(2),1/np.sqrt(2)],[1/np.sqrt(2),-1/np.sqrt(2)]])\n",
    "x = np.array([1,2])\n",
    "print(\"Norm of x\", np.linalg.norm(x)**2)\n",
    "print(A @ x, '| | = ', np.linalg.norm(A@x) ** 2)\n",
    "print(B.T @ x, '| | = ', np.linalg.norm(B @ x))"
   ]
  },
  {
   "cell_type": "code",
   "execution_count": 52,
   "metadata": {},
   "outputs": [
    {
     "name": "stdout",
     "output_type": "stream",
     "text": [
      "[[1. 0. 0.]\n",
      " [0. 1. 0.]\n",
      " [0. 0. 1.]]\n"
     ]
    }
   ],
   "source": [
    "# A = []\n",
    "# V = np.array([[2,0],[0,1]])\n",
    "# u1 = V[:,0]/np.linalg.norm(V[:,0])\n",
    "# A.append(u1)\n",
    "# v2 = V[:,1]\n",
    "# u2 = (v2 - v2 @ u1)/np.linalg.norm(v2)\n",
    "# A.append(u2)\n",
    "\n",
    "# print(u1)\n",
    "# print(u2)\n",
    "# print(A)\n",
    "def gram_schmidt(V):\n",
    "    '''\n",
    "    Input: set of linearly independent vectors V (n,k)\n",
    "    Output: set of orthonormal basic vectors A (n,k)\n",
    "    '''\n",
    "    V = np.asarray(V)\n",
    "    A = []\n",
    "    u1 = V[:,0]/np.linalg.norm(V[:,0])\n",
    "    A.append(u1)\n",
    "    for i in range(1, len(V)):\n",
    "        vi = V[:,i].reshape(len(V[:,i]), 1)\n",
    "        proj = 0\n",
    "        for j in range(len(A)):\n",
    "            u = np.asarray(A).T[:,j]\n",
    "            u = u.reshape(len(u),1)\n",
    "            proj += vi *u *u\n",
    "        ui = (vi - proj)/np.linalg.norm(vi)\n",
    "        A.append(ui.reshape(len(ui)))\n",
    "    return np.asarray(A)\n",
    "\n",
    "V = [[3,0,0],[0,4,0],[0,0,5]]       \n",
    "print(gram_schmidt(V))\n"
   ]
  },
  {
   "cell_type": "code",
   "execution_count": null,
   "metadata": {},
   "outputs": [],
   "source": []
  }
 ],
 "metadata": {
  "kernelspec": {
   "display_name": "Python 3",
   "language": "python",
   "name": "python3"
  },
  "language_info": {
   "codemirror_mode": {
    "name": "ipython",
    "version": 3
   },
   "file_extension": ".py",
   "mimetype": "text/x-python",
   "name": "python",
   "nbconvert_exporter": "python",
   "pygments_lexer": "ipython3",
   "version": "3.7.5"
  }
 },
 "nbformat": 4,
 "nbformat_minor": 4
}
